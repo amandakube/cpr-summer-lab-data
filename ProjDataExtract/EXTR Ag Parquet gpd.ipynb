{
 "cells": [
  {
   "cell_type": "code",
   "execution_count": 12,
   "id": "c7c1449c-b0a4-4763-b0d3-7db55632b14e",
   "metadata": {
    "tags": []
   },
   "outputs": [],
   "source": [
    "import os\n",
    "import pandas as pd\n",
    "import geopandas as gpd\n",
    "import json\n",
    "import matplotlib.pyplot as plt\n",
    "import fiona\n",
    "import contextily\n",
    "pd.set_option('display.max_columns', None)\n",
    "\n",
    "import pyarrow as pa\n",
    "import pyarrow.parquet as pq\n",
    "\n",
    "path = \"/srv/data/my_shared_data_folder/cpr/\""
   ]
  },
  {
   "cell_type": "code",
   "execution_count": 2,
   "id": "588f04bd-09d7-4892-8ef1-fdf12a799ad4",
   "metadata": {
    "tags": []
   },
   "outputs": [],
   "source": [
    "ag_pur = gpd.read_parquet(path + \"/pur2020_ag.parquet\",\n",
    "columns = [\"geometry\", \"county_name\"])"
   ]
  },
  {
   "cell_type": "code",
   "execution_count": 5,
   "id": "e3f7e52d-d2e3-4054-9595-694c622a128b",
   "metadata": {},
   "outputs": [],
   "source": [
    "ag_pur.reset_index(inplace = True)"
   ]
  },
  {
   "cell_type": "code",
   "execution_count": 7,
   "id": "f47ac5ff-5c08-4393-9b12-abcfeb77059c",
   "metadata": {
    "tags": []
   },
   "outputs": [],
   "source": [
    "ag_pur.rename(columns = {'index':'identifier'},inplace = True)"
   ]
  },
  {
   "cell_type": "code",
   "execution_count": 8,
   "id": "2feb7771-1889-44eb-bd51-31958cf74fa7",
   "metadata": {
    "tags": []
   },
   "outputs": [
    {
     "data": {
      "text/html": [
       "<div>\n",
       "<style scoped>\n",
       "    .dataframe tbody tr th:only-of-type {\n",
       "        vertical-align: middle;\n",
       "    }\n",
       "\n",
       "    .dataframe tbody tr th {\n",
       "        vertical-align: top;\n",
       "    }\n",
       "\n",
       "    .dataframe thead th {\n",
       "        text-align: right;\n",
       "    }\n",
       "</style>\n",
       "<table border=\"1\" class=\"dataframe\">\n",
       "  <thead>\n",
       "    <tr style=\"text-align: right;\">\n",
       "      <th></th>\n",
       "      <th>identifier</th>\n",
       "      <th>geometry</th>\n",
       "      <th>county_name</th>\n",
       "    </tr>\n",
       "  </thead>\n",
       "  <tbody>\n",
       "    <tr>\n",
       "      <th>0</th>\n",
       "      <td>0</td>\n",
       "      <td>POLYGON ((-122.79807 38.66381, -122.79169 38.6...</td>\n",
       "      <td>Sonoma</td>\n",
       "    </tr>\n",
       "    <tr>\n",
       "      <th>1</th>\n",
       "      <td>1</td>\n",
       "      <td>POLYGON ((-122.79807 38.66381, -122.79169 38.6...</td>\n",
       "      <td>Sonoma</td>\n",
       "    </tr>\n",
       "    <tr>\n",
       "      <th>2</th>\n",
       "      <td>2</td>\n",
       "      <td>POLYGON ((-122.44568 38.15707, -122.44565 38.1...</td>\n",
       "      <td>Sonoma</td>\n",
       "    </tr>\n",
       "    <tr>\n",
       "      <th>3</th>\n",
       "      <td>3</td>\n",
       "      <td>POLYGON ((-122.44568 38.15707, -122.44565 38.1...</td>\n",
       "      <td>Sonoma</td>\n",
       "    </tr>\n",
       "    <tr>\n",
       "      <th>4</th>\n",
       "      <td>4</td>\n",
       "      <td>POLYGON ((-122.85427 38.51788, -122.84768 38.5...</td>\n",
       "      <td>Sonoma</td>\n",
       "    </tr>\n",
       "    <tr>\n",
       "      <th>...</th>\n",
       "      <td>...</td>\n",
       "      <td>...</td>\n",
       "      <td>...</td>\n",
       "    </tr>\n",
       "    <tr>\n",
       "      <th>7463681</th>\n",
       "      <td>7463857</td>\n",
       "      <td>POLYGON ((-121.82353 37.73803, -121.80525 37.7...</td>\n",
       "      <td>Alameda</td>\n",
       "    </tr>\n",
       "    <tr>\n",
       "      <th>7463682</th>\n",
       "      <td>7463858</td>\n",
       "      <td>POLYGON ((-122.18998 37.75191, -122.19021 37.7...</td>\n",
       "      <td>Alameda</td>\n",
       "    </tr>\n",
       "    <tr>\n",
       "      <th>7463683</th>\n",
       "      <td>7463859</td>\n",
       "      <td>POLYGON ((-122.22539 37.76617, -122.22539 37.7...</td>\n",
       "      <td>Alameda</td>\n",
       "    </tr>\n",
       "    <tr>\n",
       "      <th>7463684</th>\n",
       "      <td>7463860</td>\n",
       "      <td>POLYGON ((-121.78763 37.65081, -121.77308 37.6...</td>\n",
       "      <td>Alameda</td>\n",
       "    </tr>\n",
       "    <tr>\n",
       "      <th>7463685</th>\n",
       "      <td>7463861</td>\n",
       "      <td>POLYGON ((-121.82353 37.73803, -121.80525 37.7...</td>\n",
       "      <td>Alameda</td>\n",
       "    </tr>\n",
       "  </tbody>\n",
       "</table>\n",
       "<p>7463686 rows × 3 columns</p>\n",
       "</div>"
      ],
      "text/plain": [
       "         identifier                                           geometry  \\\n",
       "0                 0  POLYGON ((-122.79807 38.66381, -122.79169 38.6...   \n",
       "1                 1  POLYGON ((-122.79807 38.66381, -122.79169 38.6...   \n",
       "2                 2  POLYGON ((-122.44568 38.15707, -122.44565 38.1...   \n",
       "3                 3  POLYGON ((-122.44568 38.15707, -122.44565 38.1...   \n",
       "4                 4  POLYGON ((-122.85427 38.51788, -122.84768 38.5...   \n",
       "...             ...                                                ...   \n",
       "7463681     7463857  POLYGON ((-121.82353 37.73803, -121.80525 37.7...   \n",
       "7463682     7463858  POLYGON ((-122.18998 37.75191, -122.19021 37.7...   \n",
       "7463683     7463859  POLYGON ((-122.22539 37.76617, -122.22539 37.7...   \n",
       "7463684     7463860  POLYGON ((-121.78763 37.65081, -121.77308 37.6...   \n",
       "7463685     7463861  POLYGON ((-121.82353 37.73803, -121.80525 37.7...   \n",
       "\n",
       "        county_name  \n",
       "0            Sonoma  \n",
       "1            Sonoma  \n",
       "2            Sonoma  \n",
       "3            Sonoma  \n",
       "4            Sonoma  \n",
       "...             ...  \n",
       "7463681     Alameda  \n",
       "7463682     Alameda  \n",
       "7463683     Alameda  \n",
       "7463684     Alameda  \n",
       "7463685     Alameda  \n",
       "\n",
       "[7463686 rows x 3 columns]"
      ]
     },
     "execution_count": 8,
     "metadata": {},
     "output_type": "execute_result"
    }
   ],
   "source": [
    "ag_pur"
   ]
  },
  {
   "cell_type": "code",
   "execution_count": 9,
   "id": "821c5463-1df4-4fd2-96fb-cd21aebc8f83",
   "metadata": {
    "tags": []
   },
   "outputs": [],
   "source": [
    "Fresno_geo = ag_pur.loc[ag_pur['county_name'] == 'Fresno']"
   ]
  },
  {
   "cell_type": "code",
   "execution_count": 14,
   "id": "8f2983eb-ff07-4d87-b7d8-fcfdac5e5752",
   "metadata": {
    "tags": []
   },
   "outputs": [
    {
     "data": {
      "text/html": [
       "<div>\n",
       "<style scoped>\n",
       "    .dataframe tbody tr th:only-of-type {\n",
       "        vertical-align: middle;\n",
       "    }\n",
       "\n",
       "    .dataframe tbody tr th {\n",
       "        vertical-align: top;\n",
       "    }\n",
       "\n",
       "    .dataframe thead th {\n",
       "        text-align: right;\n",
       "    }\n",
       "</style>\n",
       "<table border=\"1\" class=\"dataframe\">\n",
       "  <thead>\n",
       "    <tr style=\"text-align: right;\">\n",
       "      <th></th>\n",
       "      <th>identifier</th>\n",
       "      <th>geometry</th>\n",
       "      <th>county_name</th>\n",
       "    </tr>\n",
       "  </thead>\n",
       "  <tbody>\n",
       "    <tr>\n",
       "      <th>3046062</th>\n",
       "      <td>3046185</td>\n",
       "      <td>POLYGON ((-120.47280 36.92327, -120.46069 36.9...</td>\n",
       "      <td>Fresno</td>\n",
       "    </tr>\n",
       "    <tr>\n",
       "      <th>3046063</th>\n",
       "      <td>3046186</td>\n",
       "      <td>POLYGON ((-119.86304 36.66349, -119.86256 36.6...</td>\n",
       "      <td>Fresno</td>\n",
       "    </tr>\n",
       "    <tr>\n",
       "      <th>3046064</th>\n",
       "      <td>3046187</td>\n",
       "      <td>POLYGON ((-119.82672 36.70681, -119.80905 36.7...</td>\n",
       "      <td>Fresno</td>\n",
       "    </tr>\n",
       "    <tr>\n",
       "      <th>3046065</th>\n",
       "      <td>3046188</td>\n",
       "      <td>POLYGON ((-120.63950 36.69214, -120.63974 36.6...</td>\n",
       "      <td>Fresno</td>\n",
       "    </tr>\n",
       "    <tr>\n",
       "      <th>3046066</th>\n",
       "      <td>3046189</td>\n",
       "      <td>POLYGON ((-119.39454 36.71975, -119.39483 36.7...</td>\n",
       "      <td>Fresno</td>\n",
       "    </tr>\n",
       "    <tr>\n",
       "      <th>...</th>\n",
       "      <td>...</td>\n",
       "      <td>...</td>\n",
       "      <td>...</td>\n",
       "    </tr>\n",
       "    <tr>\n",
       "      <th>6288545</th>\n",
       "      <td>6288717</td>\n",
       "      <td>POLYGON ((-120.00633 36.69169, -120.00102 36.6...</td>\n",
       "      <td>Fresno</td>\n",
       "    </tr>\n",
       "    <tr>\n",
       "      <th>6288546</th>\n",
       "      <td>6288718</td>\n",
       "      <td>POLYGON ((-119.60998 36.80854, -119.61002 36.7...</td>\n",
       "      <td>Fresno</td>\n",
       "    </tr>\n",
       "    <tr>\n",
       "      <th>6288547</th>\n",
       "      <td>6288719</td>\n",
       "      <td>POLYGON ((-119.53890 36.53249, -119.52089 36.5...</td>\n",
       "      <td>Fresno</td>\n",
       "    </tr>\n",
       "    <tr>\n",
       "      <th>6288548</th>\n",
       "      <td>6288720</td>\n",
       "      <td>POLYGON ((-120.13343 36.61855, -120.11524 36.6...</td>\n",
       "      <td>Fresno</td>\n",
       "    </tr>\n",
       "    <tr>\n",
       "      <th>6288549</th>\n",
       "      <td>6288721</td>\n",
       "      <td>POLYGON ((-119.68224 36.66371, -119.68080 36.6...</td>\n",
       "      <td>Fresno</td>\n",
       "    </tr>\n",
       "  </tbody>\n",
       "</table>\n",
       "<p>777048 rows × 3 columns</p>\n",
       "</div>"
      ],
      "text/plain": [
       "         identifier                                           geometry  \\\n",
       "3046062     3046185  POLYGON ((-120.47280 36.92327, -120.46069 36.9...   \n",
       "3046063     3046186  POLYGON ((-119.86304 36.66349, -119.86256 36.6...   \n",
       "3046064     3046187  POLYGON ((-119.82672 36.70681, -119.80905 36.7...   \n",
       "3046065     3046188  POLYGON ((-120.63950 36.69214, -120.63974 36.6...   \n",
       "3046066     3046189  POLYGON ((-119.39454 36.71975, -119.39483 36.7...   \n",
       "...             ...                                                ...   \n",
       "6288545     6288717  POLYGON ((-120.00633 36.69169, -120.00102 36.6...   \n",
       "6288546     6288718  POLYGON ((-119.60998 36.80854, -119.61002 36.7...   \n",
       "6288547     6288719  POLYGON ((-119.53890 36.53249, -119.52089 36.5...   \n",
       "6288548     6288720  POLYGON ((-120.13343 36.61855, -120.11524 36.6...   \n",
       "6288549     6288721  POLYGON ((-119.68224 36.66371, -119.68080 36.6...   \n",
       "\n",
       "        county_name  \n",
       "3046062      Fresno  \n",
       "3046063      Fresno  \n",
       "3046064      Fresno  \n",
       "3046065      Fresno  \n",
       "3046066      Fresno  \n",
       "...             ...  \n",
       "6288545      Fresno  \n",
       "6288546      Fresno  \n",
       "6288547      Fresno  \n",
       "6288548      Fresno  \n",
       "6288549      Fresno  \n",
       "\n",
       "[777048 rows x 3 columns]"
      ]
     },
     "execution_count": 14,
     "metadata": {},
     "output_type": "execute_result"
    }
   ],
   "source": [
    "Fresno_geo"
   ]
  },
  {
   "cell_type": "code",
   "execution_count": 15,
   "id": "feb8b183-115d-4c52-9d85-de246009cfd8",
   "metadata": {
    "tags": []
   },
   "outputs": [],
   "source": [
    "Fresno_geo.to_parquet('Fresno_geo.parquet')"
   ]
  },
  {
   "cell_type": "code",
   "execution_count": null,
   "id": "689b1d17-5380-43c9-8a79-018f3f37fe76",
   "metadata": {},
   "outputs": [],
   "source": []
  }
 ],
 "metadata": {
  "kernelspec": {
   "display_name": "Python 3 (ipykernel)",
   "language": "python",
   "name": "python3"
  },
  "language_info": {
   "codemirror_mode": {
    "name": "ipython",
    "version": 3
   },
   "file_extension": ".py",
   "mimetype": "text/x-python",
   "name": "python",
   "nbconvert_exporter": "python",
   "pygments_lexer": "ipython3",
   "version": "3.9.7"
  }
 },
 "nbformat": 4,
 "nbformat_minor": 5
}
