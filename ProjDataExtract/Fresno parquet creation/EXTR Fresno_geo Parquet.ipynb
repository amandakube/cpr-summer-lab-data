{
 "cells": [
  {
   "cell_type": "code",
   "execution_count": 1,
   "id": "58aae283-5a94-401d-80af-37525ea9a32c",
   "metadata": {
    "tags": []
   },
   "outputs": [],
   "source": [
    "import os\n",
    "import pandas as pd\n",
    "import geopandas as gpd\n",
    "import json\n",
    "import matplotlib.pyplot as plt\n",
    "import fiona\n",
    "import contextily\n",
    "pd.set_option('display.max_columns', None)\n",
    "\n",
    "import pyarrow as pa\n",
    "import pyarrow.parquet as pq\n",
    "\n",
    "path = \"/srv/data/my_shared_data_folder/cpr/\""
   ]
  },
  {
   "cell_type": "code",
   "execution_count": 2,
   "id": "fa1fd064-2eed-4754-9dc9-81b6070bdbc1",
   "metadata": {
    "tags": []
   },
   "outputs": [],
   "source": [
    "Fresno_geo = gpd.read_parquet(\"./Fresno_geo.parquet\")"
   ]
  },
  {
   "cell_type": "code",
   "execution_count": 4,
   "id": "2c1d102a-435d-4a2a-9016-4d677b93abbb",
   "metadata": {
    "tags": []
   },
   "outputs": [
    {
     "data": {
      "text/plain": [
       "geopandas.geodataframe.GeoDataFrame"
      ]
     },
     "execution_count": 4,
     "metadata": {},
     "output_type": "execute_result"
    }
   ],
   "source": [
    "type(Fresno_geo)"
   ]
  },
  {
   "cell_type": "code",
   "execution_count": 5,
   "id": "db038ea6-dae0-475e-a63e-9cd35025dfff",
   "metadata": {
    "tags": []
   },
   "outputs": [
    {
     "data": {
      "text/html": [
       "<div>\n",
       "<style scoped>\n",
       "    .dataframe tbody tr th:only-of-type {\n",
       "        vertical-align: middle;\n",
       "    }\n",
       "\n",
       "    .dataframe tbody tr th {\n",
       "        vertical-align: top;\n",
       "    }\n",
       "\n",
       "    .dataframe thead th {\n",
       "        text-align: right;\n",
       "    }\n",
       "</style>\n",
       "<table border=\"1\" class=\"dataframe\">\n",
       "  <thead>\n",
       "    <tr style=\"text-align: right;\">\n",
       "      <th></th>\n",
       "      <th>identifier</th>\n",
       "      <th>geometry</th>\n",
       "      <th>county_name</th>\n",
       "    </tr>\n",
       "  </thead>\n",
       "  <tbody>\n",
       "    <tr>\n",
       "      <th>3046062</th>\n",
       "      <td>3046185</td>\n",
       "      <td>POLYGON ((-120.47280 36.92327, -120.46069 36.9...</td>\n",
       "      <td>Fresno</td>\n",
       "    </tr>\n",
       "    <tr>\n",
       "      <th>3046063</th>\n",
       "      <td>3046186</td>\n",
       "      <td>POLYGON ((-119.86304 36.66349, -119.86256 36.6...</td>\n",
       "      <td>Fresno</td>\n",
       "    </tr>\n",
       "    <tr>\n",
       "      <th>3046064</th>\n",
       "      <td>3046187</td>\n",
       "      <td>POLYGON ((-119.82672 36.70681, -119.80905 36.7...</td>\n",
       "      <td>Fresno</td>\n",
       "    </tr>\n",
       "    <tr>\n",
       "      <th>3046065</th>\n",
       "      <td>3046188</td>\n",
       "      <td>POLYGON ((-120.63950 36.69214, -120.63974 36.6...</td>\n",
       "      <td>Fresno</td>\n",
       "    </tr>\n",
       "    <tr>\n",
       "      <th>3046066</th>\n",
       "      <td>3046189</td>\n",
       "      <td>POLYGON ((-119.39454 36.71975, -119.39483 36.7...</td>\n",
       "      <td>Fresno</td>\n",
       "    </tr>\n",
       "    <tr>\n",
       "      <th>...</th>\n",
       "      <td>...</td>\n",
       "      <td>...</td>\n",
       "      <td>...</td>\n",
       "    </tr>\n",
       "    <tr>\n",
       "      <th>6288545</th>\n",
       "      <td>6288717</td>\n",
       "      <td>POLYGON ((-120.00633 36.69169, -120.00102 36.6...</td>\n",
       "      <td>Fresno</td>\n",
       "    </tr>\n",
       "    <tr>\n",
       "      <th>6288546</th>\n",
       "      <td>6288718</td>\n",
       "      <td>POLYGON ((-119.60998 36.80854, -119.61002 36.7...</td>\n",
       "      <td>Fresno</td>\n",
       "    </tr>\n",
       "    <tr>\n",
       "      <th>6288547</th>\n",
       "      <td>6288719</td>\n",
       "      <td>POLYGON ((-119.53890 36.53249, -119.52089 36.5...</td>\n",
       "      <td>Fresno</td>\n",
       "    </tr>\n",
       "    <tr>\n",
       "      <th>6288548</th>\n",
       "      <td>6288720</td>\n",
       "      <td>POLYGON ((-120.13343 36.61855, -120.11524 36.6...</td>\n",
       "      <td>Fresno</td>\n",
       "    </tr>\n",
       "    <tr>\n",
       "      <th>6288549</th>\n",
       "      <td>6288721</td>\n",
       "      <td>POLYGON ((-119.68224 36.66371, -119.68080 36.6...</td>\n",
       "      <td>Fresno</td>\n",
       "    </tr>\n",
       "  </tbody>\n",
       "</table>\n",
       "<p>777048 rows × 3 columns</p>\n",
       "</div>"
      ],
      "text/plain": [
       "         identifier                                           geometry  \\\n",
       "3046062     3046185  POLYGON ((-120.47280 36.92327, -120.46069 36.9...   \n",
       "3046063     3046186  POLYGON ((-119.86304 36.66349, -119.86256 36.6...   \n",
       "3046064     3046187  POLYGON ((-119.82672 36.70681, -119.80905 36.7...   \n",
       "3046065     3046188  POLYGON ((-120.63950 36.69214, -120.63974 36.6...   \n",
       "3046066     3046189  POLYGON ((-119.39454 36.71975, -119.39483 36.7...   \n",
       "...             ...                                                ...   \n",
       "6288545     6288717  POLYGON ((-120.00633 36.69169, -120.00102 36.6...   \n",
       "6288546     6288718  POLYGON ((-119.60998 36.80854, -119.61002 36.7...   \n",
       "6288547     6288719  POLYGON ((-119.53890 36.53249, -119.52089 36.5...   \n",
       "6288548     6288720  POLYGON ((-120.13343 36.61855, -120.11524 36.6...   \n",
       "6288549     6288721  POLYGON ((-119.68224 36.66371, -119.68080 36.6...   \n",
       "\n",
       "        county_name  \n",
       "3046062      Fresno  \n",
       "3046063      Fresno  \n",
       "3046064      Fresno  \n",
       "3046065      Fresno  \n",
       "3046066      Fresno  \n",
       "...             ...  \n",
       "6288545      Fresno  \n",
       "6288546      Fresno  \n",
       "6288547      Fresno  \n",
       "6288548      Fresno  \n",
       "6288549      Fresno  \n",
       "\n",
       "[777048 rows x 3 columns]"
      ]
     },
     "execution_count": 5,
     "metadata": {},
     "output_type": "execute_result"
    }
   ],
   "source": [
    "Fresno_geo"
   ]
  },
  {
   "cell_type": "code",
   "execution_count": null,
   "id": "b5c6d0ed-23b1-48d8-b844-0c8aa951d1ce",
   "metadata": {},
   "outputs": [],
   "source": []
  }
 ],
 "metadata": {
  "kernelspec": {
   "display_name": "Python 3 (ipykernel)",
   "language": "python",
   "name": "python3"
  },
  "language_info": {
   "codemirror_mode": {
    "name": "ipython",
    "version": 3
   },
   "file_extension": ".py",
   "mimetype": "text/x-python",
   "name": "python",
   "nbconvert_exporter": "python",
   "pygments_lexer": "ipython3",
   "version": "3.9.7"
  }
 },
 "nbformat": 4,
 "nbformat_minor": 5
}
