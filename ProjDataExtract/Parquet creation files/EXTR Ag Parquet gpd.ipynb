{
 "cells": [
  {
   "cell_type": "code",
   "execution_count": 1,
   "id": "c7c1449c-b0a4-4763-b0d3-7db55632b14e",
   "metadata": {
    "tags": []
   },
   "outputs": [],
   "source": [
    "import os\n",
    "import pandas as pd\n",
    "import geopandas as gpd\n",
    "import json\n",
    "import matplotlib.pyplot as plt\n",
    "import fiona\n",
    "import contextily\n",
    "pd.set_option('display.max_columns', None)\n",
    "\n",
    "import pyarrow as pa\n",
    "import pyarrow.parquet as pq\n",
    "\n",
    "path = \"/srv/data/my_shared_data_folder/cpr/\""
   ]
  },
  {
   "cell_type": "code",
   "execution_count": 2,
   "id": "588f04bd-09d7-4892-8ef1-fdf12a799ad4",
   "metadata": {
    "tags": []
   },
   "outputs": [],
   "source": [
    "# import file for subsetting\n",
    "\n",
    "ag_pur = gpd.read_parquet(path + \"/pur2020_ag.parquet\",\n",
    "columns = [\"geometry\", \"county_name\"])"
   ]
  },
  {
   "cell_type": "code",
   "execution_count": 3,
   "id": "e3f7e52d-d2e3-4054-9595-694c622a128b",
   "metadata": {},
   "outputs": [],
   "source": [
    "ag_pur.reset_index(inplace = True)"
   ]
  },
  {
   "cell_type": "code",
   "execution_count": 4,
   "id": "f47ac5ff-5c08-4393-9b12-abcfeb77059c",
   "metadata": {
    "tags": []
   },
   "outputs": [],
   "source": [
    "# set an index for later merge\n",
    "\n",
    "ag_pur.rename(columns = {'index':'identifier'},inplace = True)"
   ]
  },
  {
   "cell_type": "code",
   "execution_count": 5,
   "id": "cb5bc57e-dfbb-46fa-96dc-7073bea37156",
   "metadata": {
    "tags": []
   },
   "outputs": [],
   "source": [
    "def cutter(county):\n",
    "    '''takes in a dataframe, then slices it based on passed county name for geometry information, returns sliced dataframe as {county}_geo.parquet into current directory'''\n",
    "    \n",
    "    ag_purC = ag_pur\n",
    "    \n",
    "    # checks that passed name is valid, then completes operations\n",
    "    \n",
    "    if (ag_purC['county_name'].eq(f'{county}')).any() == True:\n",
    "        Reduction = ag_purC.loc[ag_purC['county_name'] == f'{county}']\n",
    "        Reduction.to_parquet(f'{county}_geo.parquet')\n",
    "    \n",
    "    else:\n",
    "        print('name not valid')\n",
    "        \n",
    "    return None"
   ]
  },
  {
   "cell_type": "code",
   "execution_count": 6,
   "id": "79b9929c-820b-4b97-8637-decf4ca9b27b",
   "metadata": {
    "tags": []
   },
   "outputs": [],
   "source": [
    "cutter('Mendocino')"
   ]
  },
  {
   "cell_type": "code",
   "execution_count": 19,
   "id": "5e0c8ec8-4e8c-425a-bd7f-5a5d483f408b",
   "metadata": {
    "tags": []
   },
   "outputs": [],
   "source": [
    "# testing file creation\n",
    "\n",
    "# Kern = gpd.read_parquet(\"./Kern_geo.parquet\")"
   ]
  }
 ],
 "metadata": {
  "kernelspec": {
   "display_name": "Python 3 (ipykernel)",
   "language": "python",
   "name": "python3"
  },
  "language_info": {
   "codemirror_mode": {
    "name": "ipython",
    "version": 3
   },
   "file_extension": ".py",
   "mimetype": "text/x-python",
   "name": "python",
   "nbconvert_exporter": "python",
   "pygments_lexer": "ipython3",
   "version": "3.9.7"
  }
 },
 "nbformat": 4,
 "nbformat_minor": 5
}
