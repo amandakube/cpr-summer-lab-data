{
 "cells": [
  {
   "cell_type": "code",
   "execution_count": 1,
   "id": "52956db6-a12d-4321-b651-48e3dff33005",
   "metadata": {
    "tags": []
   },
   "outputs": [],
   "source": [
    "import os\n",
    "import pandas as pd\n",
    "import geopandas as gpd\n",
    "import json\n",
    "import matplotlib.pyplot as plt\n",
    "import fiona\n",
    "import contextily\n",
    "pd.set_option('display.max_columns', None)\n",
    "\n",
    "path = \"/srv/data/my_shared_data_folder/cpr/\"\n",
    "\n",
    "#dir_list = os.listdir(path)\n",
    "#print(dir_list)"
   ]
  },
  {
   "cell_type": "code",
   "execution_count": 2,
   "id": "dc58393e-0202-486f-a3ea-e9a7150391f0",
   "metadata": {
    "tags": []
   },
   "outputs": [],
   "source": [
    "# dir_list = os.listdir(path)\n",
    "# print(dir_list)"
   ]
  },
  {
   "cell_type": "code",
   "execution_count": 3,
   "id": "1468912c-3297-42e5-91e1-aeca6f6a45ab",
   "metadata": {
    "tags": []
   },
   "outputs": [],
   "source": [
    "# import pyarrow as pa\n",
    "# import pyarrow.parquet as pq"
   ]
  },
  {
   "cell_type": "code",
   "execution_count": 4,
   "id": "e78be280-69dc-4999-a866-37fe421cde09",
   "metadata": {
    "tags": []
   },
   "outputs": [],
   "source": [
    "import gc"
   ]
  },
  {
   "cell_type": "code",
   "execution_count": 5,
   "id": "1da63a9b-efd0-45e1-aafa-a9848ea2a6b9",
   "metadata": {
    "tags": []
   },
   "outputs": [],
   "source": [
    "# Extract parquet as pandas dataframe, causes loss of geographic information, but whole fram will load\n",
    "Pur = pd.read_parquet(path + 'pur2020_ag.parquet', engine = 'fastparquet')"
   ]
  },
  {
   "cell_type": "code",
   "execution_count": 6,
   "id": "4e9060d9-2fd6-49ed-a770-2d622c36cf08",
   "metadata": {
    "tags": []
   },
   "outputs": [],
   "source": [
    "Pur.reset_index(inplace = True)"
   ]
  },
  {
   "cell_type": "code",
   "execution_count": 7,
   "id": "84629b62-a420-4927-882e-db0a31f1aa9c",
   "metadata": {
    "tags": []
   },
   "outputs": [],
   "source": [
    "Pur.rename(columns = {'index':'identifier'},inplace = True)"
   ]
  },
  {
   "cell_type": "code",
   "execution_count": 8,
   "id": "ec7ab480-b8f4-4dd1-a90d-cf78823bfa78",
   "metadata": {},
   "outputs": [],
   "source": [
    "import pyarrow as pa\n",
    "import pyarrow.parquet as pq\n",
    "\n",
    "def Slicer(county):\n",
    "    '''takes in a dataframe, then slices it based on passed county name for feature information, returns sliced dataframe as {county}.parquet into current directory'''\n",
    "    \n",
    "    PurC = Pur\n",
    "    \n",
    "    # checking if passed county name is valid, then performing operations\n",
    "    \n",
    "    if (PurC['county_name'].eq(f'{county}')).any() == True:\n",
    "        Reduction = PurC.loc[PurC['county_name'] == f'{county}']\n",
    "        table = pa.Table.from_pandas(Reduction)\n",
    "        pq.write_table(table, f'{county}_pd.parquet')\n",
    "        \n",
    "    else:\n",
    "        print('name not valid')\n",
    "        \n",
    "    return None"
   ]
  },
  {
   "cell_type": "code",
   "execution_count": 9,
   "id": "e9914e9b-1d61-4bcb-891b-855da776e852",
   "metadata": {
    "tags": []
   },
   "outputs": [],
   "source": [
    "Slicer('Mendocino')"
   ]
  },
  {
   "cell_type": "code",
   "execution_count": null,
   "id": "788988b0-668f-4dea-aa53-45ec4d6ae730",
   "metadata": {},
   "outputs": [],
   "source": []
  }
 ],
 "metadata": {
  "kernelspec": {
   "display_name": "Python 3 (ipykernel)",
   "language": "python",
   "name": "python3"
  },
  "language_info": {
   "codemirror_mode": {
    "name": "ipython",
    "version": 3
   },
   "file_extension": ".py",
   "mimetype": "text/x-python",
   "name": "python",
   "nbconvert_exporter": "python",
   "pygments_lexer": "ipython3",
   "version": "3.9.7"
  }
 },
 "nbformat": 4,
 "nbformat_minor": 5
}
