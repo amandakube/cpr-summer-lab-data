{
 "cells": [
  {
   "cell_type": "code",
   "execution_count": 1,
   "id": "512519ee-e962-4d8d-b1ad-3cd769ffff55",
   "metadata": {
    "tags": []
   },
   "outputs": [
    {
     "name": "stdout",
     "output_type": "stream",
     "text": [
      "['california_counties_census_data.csv', 'cleaned_county_data.csv', 'R13391251_SL140.csv', 'R13391250_SL050.csv', 'california_tracts.gpkg', 'pur2020_nonag.parquet', 'cleaned_tract_data.csv', 'cleaned_elsd_data.csv', 'california_zctas.gpkg', 'california_counties.gpkg', 'vision_providers_geocoded.csv', 'california_watersheds.gpkg', 'california_zcta_census_data.csv', 'R13391252_SL950.csv', 'new_test_file.gpkg', 'readme.md', 'california_elementary_school_districts.gpkg', 'pur2020_ag.parquet', 'california_tracts_census_data.csv', 'cleaned_zcta_data.csv', 'california_elementary_schools_census_data.csv', 'R13391293_SL860.csv', 'another_copy_pur2020_ag.parquet']\n"
     ]
    }
   ],
   "source": [
    "import os\n",
    "import pandas as pd\n",
    "import geopandas as gpd\n",
    "import json\n",
    "import matplotlib.pyplot as plt\n",
    "import fiona\n",
    "import pyproj\n",
    "import contextily\n",
    "import plotly.express as px\n",
    "pd.set_option('display.max_columns', None)\n",
    "pd.set_option('display.max_rows', 10)\n",
    "path = \"/srv/data/my_shared_data_folder/cpr/\"\n",
    "\n",
    "dir_list = os.listdir(path)\n",
    "#dir_in = os.listdir(os.getcwd())\n",
    "#directory = pd.Series(dir_in)\n",
    "#print(dir_in)\n",
    "print(dir_list)"
   ]
  },
  {
   "cell_type": "markdown",
   "id": "34f3415b-ecee-462f-9ab2-73386e869e1a",
   "metadata": {},
   "source": [
    "# needed files:\n",
    "1. most recent PUR dataframe: 'Pesticide_5_AgCut.csv'\n",
    "2. Township range geometry file: 'Public_Land_Survey_System_(PLSS)%3A_Township_and_Range.geojson'\n",
    "\n",
    "**This is a copy of the original file since for some reason the other was very large**"
   ]
  },
  {
   "cell_type": "code",
   "execution_count": null,
   "id": "05ad85e8-ce43-4dee-b351-c0771c18541c",
   "metadata": {},
   "outputs": [],
   "source": [
    "# read in features for pesticides\n",
    "\n",
    "features = pd.read_csv('../data/Pesticide_5_AgCut.csv', low_memory = False) "
   ]
  },
  {
   "cell_type": "code",
   "execution_count": null,
   "id": "c7f76127-acdf-4b37-accd-293d91dcfff9",
   "metadata": {},
   "outputs": [],
   "source": [
    "f = open('../data/Public_Land_Survey_System_(PLSS)%3A_Township_and_Range.geojson')\n",
    "places_json = json.load(f)"
   ]
  },
  {
   "cell_type": "code",
   "execution_count": null,
   "id": "12a002d6-8056-484a-8226-f0d95bd72dbc",
   "metadata": {},
   "outputs": [],
   "source": [
    "features['TownshipRange'] = features['Township'] + \" \" + features['Range']"
   ]
  },
  {
   "cell_type": "markdown",
   "id": "94189312-2f06-4801-845a-52d3442d06d8",
   "metadata": {},
   "source": [
    "# Module creation : all modules currently functioning"
   ]
  },
  {
   "cell_type": "code",
   "execution_count": 2,
   "id": "dfdbcb56-340d-4383-b8b3-f4987c645eef",
   "metadata": {
    "tags": []
   },
   "outputs": [],
   "source": [
    "# 1. filtering for county\n",
    "# county = []"
   ]
  },
  {
   "cell_type": "code",
   "execution_count": null,
   "id": "fdcc8c49-9e16-4938-aa81-bac8d1d526a3",
   "metadata": {},
   "outputs": [],
   "source": [
    "# 1. filtering for county\n",
    "# if (county != []):\n",
    "#        features = features.loc[features['COUNTY_NAME'].isin(county)]"
   ]
  },
  {
   "cell_type": "code",
   "execution_count": null,
   "id": "1d2f27e1-563f-4d6a-baa7-93708f694ae1",
   "metadata": {},
   "outputs": [],
   "source": [
    "# 2. filtering for year\n",
    "# year = 2018"
   ]
  },
  {
   "cell_type": "code",
   "execution_count": null,
   "id": "f89ab143-df27-40c1-ad15-5b759662c428",
   "metadata": {},
   "outputs": [],
   "source": [
    "# 2. filtering for year\n",
    "# features = features.loc[features['YEAR'] == year]"
   ]
  },
  {
   "cell_type": "code",
   "execution_count": null,
   "id": "ba853230-1391-4c0e-bd90-0c90f4f007d2",
   "metadata": {},
   "outputs": [],
   "source": [
    "# 3. filtering for pesticide type\n",
    "# pesticide_type = 'carcinogens'"
   ]
  },
  {
   "cell_type": "code",
   "execution_count": null,
   "id": "8176f2c3-d888-4ed0-9d2c-a7af69e7288f",
   "metadata": {},
   "outputs": [],
   "source": [
    "# 3. filtering for pesticide type\n",
    "# if pesticide_type != '':\n",
    "#         if pesticide_type in (list(features.columns)):\n",
    "#             features = features.loc[features[f'{pesticide_type}'] == True]\n",
    "#         else: print('invalid pesticide type')"
   ]
  },
  {
   "cell_type": "code",
   "execution_count": null,
   "id": "d7d2ab33-bcb2-4042-a4c4-a2b1c3e13302",
   "metadata": {},
   "outputs": [],
   "source": [
    "# 4. merging dataframe\n",
    "# county_features = features.groupby(by = 'TownshipRange').sum()[['POUNDS_PRODUCT_APPLIED']]"
   ]
  },
  {
   "cell_type": "markdown",
   "id": "bf0d05e5-ccfc-4a78-ba3e-bd6dbf7d8769",
   "metadata": {},
   "source": [
    "# End of Modules\n",
    "- - -\n",
    "- - -\n",
    "- - -"
   ]
  },
  {
   "cell_type": "code",
   "execution_count": null,
   "id": "964fd562-5e6a-4c19-94b7-c9c216c41728",
   "metadata": {},
   "outputs": [],
   "source": [
    "# most recent function iteration\n",
    "\n",
    "def plotr2(features, column, year = 2018,pesticide_type = '', county = []):\n",
    "    # 1. filtering for county\n",
    "    if (county != []):\n",
    "        features = features.loc[features['COUNTY_NAME'].isin(county)]\n",
    "    \n",
    "    # 2. filtering for year\n",
    "    features = features.loc[features['YEAR'] == year]\n",
    "    \n",
    "    # 3. filtering for pesticide type\n",
    "    if (pesticide_type != ''):\n",
    "        if (pesticide_type in (list(features.columns))):\n",
    "            features = features.loc[features[f'{pesticide_type}'] == True]\n",
    "        else: print('invalid pesticide type')\n",
    "    # 4. merging dataframe\n",
    "    features = features.groupby(by = 'TownshipRange').sum()[[column]]\n",
    "    \n",
    "    fig = px.choropleth_mapbox(features, \n",
    "                           geojson=places_json,\n",
    "                           featureidkey='properties.TownshipRange',\n",
    "                           locations=features.index.to_series(), \n",
    "                           color=\"POUNDS_PRODUCT_APPLIED\",\n",
    "                           color_continuous_scale=\"Viridis\",\n",
    "                           range_color=(0,1_900_000),\n",
    "                           mapbox_style=\"carto-positron\",\n",
    "                           zoom=3, center = {\"lat\":36.746841 , \"lon\": -119.772591},\n",
    "                           opacity=0.4,\n",
    "                           #labels={'chem_type':'chemical type'}\n",
    "                          )\n",
    "    fig.update_layout(margin={\"r\":0,\"t\":0,\"l\":0,\"b\":0})\n",
    "    \n",
    "    return fig"
   ]
  },
  {
   "cell_type": "code",
   "execution_count": null,
   "id": "93b850ca-cd1d-4140-b484-8b19571e676d",
   "metadata": {},
   "outputs": [],
   "source": [
    "plotr2(features,county = ['FRESNO'], column = 'POUNDS_PRODUCT_APPLIED', year = 2021)"
   ]
  }
 ],
 "metadata": {
  "kernelspec": {
   "display_name": "Python 3 (ipykernel)",
   "language": "python",
   "name": "python3"
  },
  "language_info": {
   "codemirror_mode": {
    "name": "ipython",
    "version": 3
   },
   "file_extension": ".py",
   "mimetype": "text/x-python",
   "name": "python",
   "nbconvert_exporter": "python",
   "pygments_lexer": "ipython3",
   "version": "3.9.7"
  }
 },
 "nbformat": 4,
 "nbformat_minor": 5
}
