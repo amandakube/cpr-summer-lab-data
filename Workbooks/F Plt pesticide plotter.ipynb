{
 "cells": [
  {
   "cell_type": "code",
   "execution_count": 1,
   "id": "eef30fd2-787f-4013-9846-98eda88042a4",
   "metadata": {
    "tags": []
   },
   "outputs": [
    {
     "name": "stdout",
     "output_type": "stream",
     "text": [
      "['california_counties_census_data.csv', 'cleaned_county_data.csv', 'R13391251_SL140.csv', 'R13391250_SL050.csv', 'california_tracts.gpkg', 'pur2020_nonag.parquet', 'cleaned_tract_data.csv', 'cleaned_elsd_data.csv', 'california_zctas.gpkg', 'california_counties.gpkg', 'vision_providers_geocoded.csv', 'california_watersheds.gpkg', 'california_zcta_census_data.csv', 'R13391252_SL950.csv', 'new_test_file.gpkg', 'readme.md', 'california_elementary_school_districts.gpkg', 'pur2020_ag.parquet', 'california_tracts_census_data.csv', 'cleaned_zcta_data.csv', 'california_elementary_schools_census_data.csv', 'R13391293_SL860.csv', 'another_copy_pur2020_ag.parquet']\n"
     ]
    }
   ],
   "source": [
    "import os\n",
    "import numpy as np\n",
    "import pandas as pd\n",
    "import geopandas as gpd\n",
    "import json\n",
    "import matplotlib.pyplot as plt\n",
    "import fiona\n",
    "import pyproj\n",
    "import contextily\n",
    "import plotly.express as px\n",
    "pd.set_option('display.max_columns', None)\n",
    "pd.set_option('display.max_rows', 10)\n",
    "path = \"/srv/data/my_shared_data_folder/cpr/\"\n",
    "\n",
    "dir_list = os.listdir(path)\n",
    "#dir_in = os.listdir(os.getcwd())\n",
    "#directory = pd.Series(dir_in)\n",
    "#print(dir_in)\n",
    "print(dir_list)"
   ]
  },
  {
   "cell_type": "code",
   "execution_count": 2,
   "id": "2e83475c-eddf-4041-aa87-ceea291f821c",
   "metadata": {
    "tags": []
   },
   "outputs": [],
   "source": [
    "def Cfp_to_CfpString(num):\n",
    "    Cfp = str(num)\n",
    "    if (len(Cfp) == 1):\n",
    "        fix = '00' + Cfp\n",
    "    elif (len(Cfp) == 2):\n",
    "        fix = '0' + Cfp\n",
    "    elif (len(Cfp) == 3):\n",
    "        fix = Cfp\n",
    "    else: return np.nan\n",
    "\n",
    "    return fix\n",
    "\n",
    "def tract_fixer(num):\n",
    "    num = str(num)\n",
    "    if (len(num) >= 2) & (len(num) <=6):\n",
    "        zero_times = 6 - len(num)\n",
    "        fix = zero_times*'0' + num\n",
    "        return fix\n",
    "    else: return np.nan"
   ]
  },
  {
   "cell_type": "code",
   "execution_count": 3,
   "id": "f00fe646-5ac0-4468-a19a-c2892354b4e6",
   "metadata": {
    "tags": []
   },
   "outputs": [],
   "source": [
    "features = pd.read_csv('../data/pesticide_5_w_tracts.csv', low_memory = False) \n",
    "features.drop(columns = ['Unnamed: 0'], inplace = True)"
   ]
  },
  {
   "cell_type": "code",
   "execution_count": 4,
   "id": "6057d792-b9fd-469f-bcdd-b5fd443cfa35",
   "metadata": {
    "tags": []
   },
   "outputs": [],
   "source": [
    "features['COUNTYFP'] = features['COUNTYFP'].apply(Cfp_to_CfpString)"
   ]
  },
  {
   "cell_type": "code",
   "execution_count": 5,
   "id": "e23e70dc-4daa-4786-bfc2-a46df7c115ad",
   "metadata": {
    "tags": []
   },
   "outputs": [],
   "source": [
    "features['TRACTFP'] = features['TRACTCE'].apply(tract_fixer)"
   ]
  },
  {
   "cell_type": "code",
   "execution_count": 6,
   "id": "f6503a07-3c25-43e7-ab9f-89eb9290e648",
   "metadata": {
    "tags": []
   },
   "outputs": [],
   "source": [
    "features['PU_FIPS'] = '06' + features['COUNTYFP'] + features['TRACTFP']"
   ]
  },
  {
   "cell_type": "code",
   "execution_count": 7,
   "id": "c95ed715-8b40-4ef8-90d7-cc5d233d371d",
   "metadata": {
    "tags": []
   },
   "outputs": [],
   "source": [
    "features['MTownshipRange'] = features.Meridian + features.TownshipRange"
   ]
  },
  {
   "cell_type": "code",
   "execution_count": 8,
   "id": "8b4e0473-559f-4bd3-bd91-a07421fc54b1",
   "metadata": {
    "tags": []
   },
   "outputs": [],
   "source": [
    "features['test'] = 1"
   ]
  },
  {
   "cell_type": "code",
   "execution_count": 9,
   "id": "3ab319db-18c4-4dc6-8530-45eb164ebbca",
   "metadata": {
    "tags": []
   },
   "outputs": [
    {
     "data": {
      "text/html": [
       "<div>\n",
       "<style scoped>\n",
       "    .dataframe tbody tr th:only-of-type {\n",
       "        vertical-align: middle;\n",
       "    }\n",
       "\n",
       "    .dataframe tbody tr th {\n",
       "        vertical-align: top;\n",
       "    }\n",
       "\n",
       "    .dataframe thead th {\n",
       "        text-align: right;\n",
       "    }\n",
       "</style>\n",
       "<table border=\"1\" class=\"dataframe\">\n",
       "  <thead>\n",
       "    <tr style=\"text-align: right;\">\n",
       "      <th></th>\n",
       "      <th>YEAR</th>\n",
       "      <th>COUNTY_NAME</th>\n",
       "      <th>COMTRS</th>\n",
       "      <th>POUNDS_PRODUCT_APPLIED</th>\n",
       "      <th>AMOUNT_TREATED</th>\n",
       "      <th>AERIAL_GROUND_INDICATOR</th>\n",
       "      <th>Meridian</th>\n",
       "      <th>County_Code</th>\n",
       "      <th>Section</th>\n",
       "      <th>air</th>\n",
       "      <th>carcinogens</th>\n",
       "      <th>endo_disrupt</th>\n",
       "      <th>ch_I</th>\n",
       "      <th>fumigants</th>\n",
       "      <th>neonicotinoids</th>\n",
       "      <th>repro_dev</th>\n",
       "      <th>TownshipRange</th>\n",
       "      <th>COUNTYFP</th>\n",
       "      <th>NAME_fromtracts</th>\n",
       "      <th>TRACTCE</th>\n",
       "      <th>OBJECTID</th>\n",
       "      <th>TRACTFP</th>\n",
       "      <th>PU_FIPS</th>\n",
       "      <th>MTownshipRange</th>\n",
       "      <th>test</th>\n",
       "    </tr>\n",
       "  </thead>\n",
       "  <tbody>\n",
       "    <tr>\n",
       "      <th>0</th>\n",
       "      <td>2018</td>\n",
       "      <td>FRESNO</td>\n",
       "      <td>10M11S13E15</td>\n",
       "      <td>486.7475</td>\n",
       "      <td>69.8</td>\n",
       "      <td>G</td>\n",
       "      <td>MDM</td>\n",
       "      <td>10</td>\n",
       "      <td>15.0</td>\n",
       "      <td>True</td>\n",
       "      <td>False</td>\n",
       "      <td>False</td>\n",
       "      <td>False</td>\n",
       "      <td>False</td>\n",
       "      <td>False</td>\n",
       "      <td>False</td>\n",
       "      <td>T11S R13E</td>\n",
       "      <td>019</td>\n",
       "      <td>84.02</td>\n",
       "      <td>8402</td>\n",
       "      <td>3693</td>\n",
       "      <td>008402</td>\n",
       "      <td>06019008402</td>\n",
       "      <td>MDMT11S R13E</td>\n",
       "      <td>1</td>\n",
       "    </tr>\n",
       "    <tr>\n",
       "      <th>1</th>\n",
       "      <td>2018</td>\n",
       "      <td>FRESNO</td>\n",
       "      <td>10M11S13E24</td>\n",
       "      <td>0.2087</td>\n",
       "      <td>63.0</td>\n",
       "      <td>G</td>\n",
       "      <td>MDM</td>\n",
       "      <td>10</td>\n",
       "      <td>24.0</td>\n",
       "      <td>NaN</td>\n",
       "      <td>NaN</td>\n",
       "      <td>NaN</td>\n",
       "      <td>NaN</td>\n",
       "      <td>NaN</td>\n",
       "      <td>NaN</td>\n",
       "      <td>NaN</td>\n",
       "      <td>T11S R13E</td>\n",
       "      <td>019</td>\n",
       "      <td>84.02</td>\n",
       "      <td>8402</td>\n",
       "      <td>3693</td>\n",
       "      <td>008402</td>\n",
       "      <td>06019008402</td>\n",
       "      <td>MDMT11S R13E</td>\n",
       "      <td>1</td>\n",
       "    </tr>\n",
       "  </tbody>\n",
       "</table>\n",
       "</div>"
      ],
      "text/plain": [
       "   YEAR COUNTY_NAME       COMTRS  POUNDS_PRODUCT_APPLIED  AMOUNT_TREATED  \\\n",
       "0  2018      FRESNO  10M11S13E15                486.7475            69.8   \n",
       "1  2018      FRESNO  10M11S13E24                  0.2087            63.0   \n",
       "\n",
       "  AERIAL_GROUND_INDICATOR Meridian  County_Code  Section   air carcinogens  \\\n",
       "0                       G      MDM           10     15.0  True       False   \n",
       "1                       G      MDM           10     24.0   NaN         NaN   \n",
       "\n",
       "  endo_disrupt   ch_I fumigants neonicotinoids repro_dev TownshipRange  \\\n",
       "0        False  False     False          False     False     T11S R13E   \n",
       "1          NaN    NaN       NaN            NaN       NaN     T11S R13E   \n",
       "\n",
       "  COUNTYFP  NAME_fromtracts  TRACTCE  OBJECTID TRACTFP      PU_FIPS  \\\n",
       "0      019            84.02     8402      3693  008402  06019008402   \n",
       "1      019            84.02     8402      3693  008402  06019008402   \n",
       "\n",
       "  MTownshipRange  test  \n",
       "0   MDMT11S R13E     1  \n",
       "1   MDMT11S R13E     1  "
      ]
     },
     "execution_count": 9,
     "metadata": {},
     "output_type": "execute_result"
    }
   ],
   "source": [
    "features.head(2)"
   ]
  },
  {
   "cell_type": "code",
   "execution_count": 10,
   "id": "e43345c9-8355-427f-b37d-af97be50ecbf",
   "metadata": {
    "tags": []
   },
   "outputs": [],
   "source": [
    "# open to plot tract level\n",
    "places = gpd.read_file('../data/tract_w_geo.geojson')\n",
    "f = open('../data/tract_w_geo.geojson')\n",
    "places1 = json.load(f)"
   ]
  },
  {
   "cell_type": "code",
   "execution_count": 10,
   "id": "c5011bbd-37b4-4911-b16a-6af93c5c09ee",
   "metadata": {},
   "outputs": [],
   "source": [
    "# open to plot TownshipRange level\n",
    "places = gpd.read_file('./places_w_MTownship.geojson')\n",
    "g = open('./places_w_MTownship.geojson')\n",
    "places2 = json.load(g)"
   ]
  },
  {
   "cell_type": "code",
   "execution_count": 9,
   "id": "ba977b5d-b125-41e4-9ff6-5dba10013538",
   "metadata": {
    "tags": []
   },
   "outputs": [],
   "source": [
    "# sorted(list(places['FIPS GEOID'].unique()))"
   ]
  },
  {
   "cell_type": "code",
   "execution_count": 10,
   "id": "3cbe787b-c08c-4123-8c2f-c55166ca086d",
   "metadata": {
    "tags": []
   },
   "outputs": [
    {
     "data": {
      "text/html": [
       "<div>\n",
       "<style scoped>\n",
       "    .dataframe tbody tr th:only-of-type {\n",
       "        vertical-align: middle;\n",
       "    }\n",
       "\n",
       "    .dataframe tbody tr th {\n",
       "        vertical-align: top;\n",
       "    }\n",
       "\n",
       "    .dataframe thead th {\n",
       "        text-align: right;\n",
       "    }\n",
       "</style>\n",
       "<table border=\"1\" class=\"dataframe\">\n",
       "  <thead>\n",
       "    <tr style=\"text-align: right;\">\n",
       "      <th></th>\n",
       "      <th>STATEFP</th>\n",
       "      <th>COUNTYFP</th>\n",
       "      <th>TRACTFP</th>\n",
       "      <th>FIPS GEOID</th>\n",
       "      <th>NAME</th>\n",
       "      <th>Geo_QNAME</th>\n",
       "      <th>MTFCC</th>\n",
       "      <th>ALAND</th>\n",
       "      <th>AWATER</th>\n",
       "      <th>INTPTLAT</th>\n",
       "      <th>INTPTLON</th>\n",
       "      <th>FIPS</th>\n",
       "      <th>state</th>\n",
       "      <th>tract</th>\n",
       "      <th>geoid</th>\n",
       "      <th>area_name</th>\n",
       "      <th>area_land</th>\n",
       "      <th>total_pop</th>\n",
       "      <th>housing_units</th>\n",
       "      <th>owner_occupied_housing_units</th>\n",
       "      <th>persons_no_health_insurance</th>\n",
       "      <th>families</th>\n",
       "      <th>families_income_below_poverty_level</th>\n",
       "      <th>median_household_income</th>\n",
       "      <th>nh_white_alone</th>\n",
       "      <th>nh_black_or_african_american_alone</th>\n",
       "      <th>nh_american_indian_and_alaska_native_alone</th>\n",
       "      <th>nh_asian_alone</th>\n",
       "      <th>nh_native_hawaiian_and_other_pacific_islander_alone</th>\n",
       "      <th>nh_other</th>\n",
       "      <th>nh_two_or_more</th>\n",
       "      <th>hispanic_or_latino</th>\n",
       "      <th>households_receiving_assistance</th>\n",
       "      <th>households</th>\n",
       "      <th>pct_owner_occupied</th>\n",
       "      <th>pct_no_health_insurance</th>\n",
       "      <th>pct_families_income_below_poverty_level</th>\n",
       "      <th>pct_households_receiving_assistance</th>\n",
       "      <th>pct_nh_white_alone</th>\n",
       "      <th>pct_nh_black_or_african_american_alone</th>\n",
       "      <th>pct_nh_american_indian_and_alaska_native_alone</th>\n",
       "      <th>pct_nh_asian_alone</th>\n",
       "      <th>pct_nh_native_hawaiian_and_other_pacific_islander_alone</th>\n",
       "      <th>pct_nh_other</th>\n",
       "      <th>pct_nh_two_or_more</th>\n",
       "      <th>pct_hispanic_or_latino</th>\n",
       "      <th>geometry</th>\n",
       "    </tr>\n",
       "  </thead>\n",
       "  <tbody>\n",
       "    <tr>\n",
       "      <th>0</th>\n",
       "      <td>06</td>\n",
       "      <td>079</td>\n",
       "      <td>010707</td>\n",
       "      <td>06079010707</td>\n",
       "      <td>107.07</td>\n",
       "      <td>Census Tract 107.07</td>\n",
       "      <td>G5020</td>\n",
       "      <td>14046662</td>\n",
       "      <td>10955892</td>\n",
       "      <td>+35.3320895</td>\n",
       "      <td>-120.8635035</td>\n",
       "      <td>06079010707</td>\n",
       "      <td>ca</td>\n",
       "      <td>10707.0</td>\n",
       "      <td>14000US06079010707</td>\n",
       "      <td>Census Tract 107.07</td>\n",
       "      <td>5.423278</td>\n",
       "      <td>6385.0</td>\n",
       "      <td>2957.0</td>\n",
       "      <td>2150.0</td>\n",
       "      <td>409.0</td>\n",
       "      <td>1677.0</td>\n",
       "      <td>91.0</td>\n",
       "      <td>98125.0</td>\n",
       "      <td>4867.0</td>\n",
       "      <td>0.0</td>\n",
       "      <td>34.0</td>\n",
       "      <td>199.0</td>\n",
       "      <td>0.0</td>\n",
       "      <td>0.0</td>\n",
       "      <td>198.0</td>\n",
       "      <td>1087.0</td>\n",
       "      <td>946.0</td>\n",
       "      <td>2750.0</td>\n",
       "      <td>0.727088</td>\n",
       "      <td>0.064056</td>\n",
       "      <td>0.054264</td>\n",
       "      <td>0.344000</td>\n",
       "      <td>0.762255</td>\n",
       "      <td>0.000000</td>\n",
       "      <td>0.005325</td>\n",
       "      <td>0.031167</td>\n",
       "      <td>0.0</td>\n",
       "      <td>0.0</td>\n",
       "      <td>0.031010</td>\n",
       "      <td>0.170243</td>\n",
       "      <td>MULTIPOLYGON (((-120.85931 35.31747, -120.8591...</td>\n",
       "    </tr>\n",
       "    <tr>\n",
       "      <th>1</th>\n",
       "      <td>06</td>\n",
       "      <td>079</td>\n",
       "      <td>010703</td>\n",
       "      <td>06079010703</td>\n",
       "      <td>107.03</td>\n",
       "      <td>Census Tract 107.03</td>\n",
       "      <td>G5020</td>\n",
       "      <td>4008527</td>\n",
       "      <td>0</td>\n",
       "      <td>+35.3185488</td>\n",
       "      <td>-120.8212247</td>\n",
       "      <td>06079010703</td>\n",
       "      <td>ca</td>\n",
       "      <td>10703.0</td>\n",
       "      <td>14000US06079010703</td>\n",
       "      <td>Census Tract 107.03</td>\n",
       "      <td>1.547702</td>\n",
       "      <td>3825.0</td>\n",
       "      <td>1436.0</td>\n",
       "      <td>656.0</td>\n",
       "      <td>254.0</td>\n",
       "      <td>951.0</td>\n",
       "      <td>104.0</td>\n",
       "      <td>62333.0</td>\n",
       "      <td>2401.0</td>\n",
       "      <td>34.0</td>\n",
       "      <td>5.0</td>\n",
       "      <td>196.0</td>\n",
       "      <td>0.0</td>\n",
       "      <td>0.0</td>\n",
       "      <td>93.0</td>\n",
       "      <td>1096.0</td>\n",
       "      <td>932.0</td>\n",
       "      <td>1386.0</td>\n",
       "      <td>0.456825</td>\n",
       "      <td>0.066405</td>\n",
       "      <td>0.109359</td>\n",
       "      <td>0.672439</td>\n",
       "      <td>0.627712</td>\n",
       "      <td>0.008889</td>\n",
       "      <td>0.001307</td>\n",
       "      <td>0.051242</td>\n",
       "      <td>0.0</td>\n",
       "      <td>0.0</td>\n",
       "      <td>0.024314</td>\n",
       "      <td>0.286536</td>\n",
       "      <td>MULTIPOLYGON (((-120.83326 35.32008, -120.8332...</td>\n",
       "    </tr>\n",
       "  </tbody>\n",
       "</table>\n",
       "</div>"
      ],
      "text/plain": [
       "  STATEFP COUNTYFP TRACTFP   FIPS GEOID    NAME            Geo_QNAME  MTFCC  \\\n",
       "0      06      079  010707  06079010707  107.07  Census Tract 107.07  G5020   \n",
       "1      06      079  010703  06079010703  107.03  Census Tract 107.03  G5020   \n",
       "\n",
       "      ALAND    AWATER     INTPTLAT      INTPTLON         FIPS state    tract  \\\n",
       "0  14046662  10955892  +35.3320895  -120.8635035  06079010707    ca  10707.0   \n",
       "1   4008527         0  +35.3185488  -120.8212247  06079010703    ca  10703.0   \n",
       "\n",
       "                geoid            area_name  area_land  total_pop  \\\n",
       "0  14000US06079010707  Census Tract 107.07   5.423278     6385.0   \n",
       "1  14000US06079010703  Census Tract 107.03   1.547702     3825.0   \n",
       "\n",
       "   housing_units  owner_occupied_housing_units  persons_no_health_insurance  \\\n",
       "0         2957.0                        2150.0                        409.0   \n",
       "1         1436.0                         656.0                        254.0   \n",
       "\n",
       "   families  families_income_below_poverty_level  median_household_income  \\\n",
       "0    1677.0                                 91.0                  98125.0   \n",
       "1     951.0                                104.0                  62333.0   \n",
       "\n",
       "   nh_white_alone  nh_black_or_african_american_alone  \\\n",
       "0          4867.0                                 0.0   \n",
       "1          2401.0                                34.0   \n",
       "\n",
       "   nh_american_indian_and_alaska_native_alone  nh_asian_alone  \\\n",
       "0                                        34.0           199.0   \n",
       "1                                         5.0           196.0   \n",
       "\n",
       "   nh_native_hawaiian_and_other_pacific_islander_alone  nh_other  \\\n",
       "0                                                0.0         0.0   \n",
       "1                                                0.0         0.0   \n",
       "\n",
       "   nh_two_or_more  hispanic_or_latino  households_receiving_assistance  \\\n",
       "0           198.0              1087.0                            946.0   \n",
       "1            93.0              1096.0                            932.0   \n",
       "\n",
       "   households  pct_owner_occupied  pct_no_health_insurance  \\\n",
       "0      2750.0            0.727088                 0.064056   \n",
       "1      1386.0            0.456825                 0.066405   \n",
       "\n",
       "   pct_families_income_below_poverty_level  \\\n",
       "0                                 0.054264   \n",
       "1                                 0.109359   \n",
       "\n",
       "   pct_households_receiving_assistance  pct_nh_white_alone  \\\n",
       "0                             0.344000            0.762255   \n",
       "1                             0.672439            0.627712   \n",
       "\n",
       "   pct_nh_black_or_african_american_alone  \\\n",
       "0                                0.000000   \n",
       "1                                0.008889   \n",
       "\n",
       "   pct_nh_american_indian_and_alaska_native_alone  pct_nh_asian_alone  \\\n",
       "0                                        0.005325            0.031167   \n",
       "1                                        0.001307            0.051242   \n",
       "\n",
       "   pct_nh_native_hawaiian_and_other_pacific_islander_alone  pct_nh_other  \\\n",
       "0                                                0.0                 0.0   \n",
       "1                                                0.0                 0.0   \n",
       "\n",
       "   pct_nh_two_or_more  pct_hispanic_or_latino  \\\n",
       "0            0.031010                0.170243   \n",
       "1            0.024314                0.286536   \n",
       "\n",
       "                                            geometry  \n",
       "0  MULTIPOLYGON (((-120.85931 35.31747, -120.8591...  \n",
       "1  MULTIPOLYGON (((-120.83326 35.32008, -120.8332...  "
      ]
     },
     "execution_count": 10,
     "metadata": {},
     "output_type": "execute_result"
    }
   ],
   "source": [
    "places.head(2)"
   ]
  },
  {
   "cell_type": "code",
   "execution_count": 5,
   "id": "e6fe8439-7a41-4f08-ac3a-bdf1af5c93d8",
   "metadata": {
    "tags": []
   },
   "outputs": [],
   "source": [
    "#set(features_F.TRACTCE).difference(set(places_F.tract))"
   ]
  },
  {
   "cell_type": "code",
   "execution_count": 11,
   "id": "3c6e3e30-0bff-4be8-94a3-c1d6ef9d8ea4",
   "metadata": {
    "tags": []
   },
   "outputs": [],
   "source": [
    "def plotr2(features, column, plot = 'TownshipRange', year = 2018,pesticide_type = '', county = []):\n",
    "    # 1. filtering for county\n",
    "    if (county != []):\n",
    "        features = features.loc[features['COUNTY_NAME'].isin(county)]\n",
    "    \n",
    "    # 2. filtering for year\n",
    "    features = features.loc[features['YEAR'] == year]\n",
    "    \n",
    "    # 3. filtering for pesticide type\n",
    "    if (pesticide_type != ''):\n",
    "        if (pesticide_type in (list(features.columns))):\n",
    "            features = features.loc[features[f'{pesticide_type}'] == True]\n",
    "        else: print('invalid pesticide type')\n",
    "    # 4. merging dataframe\n",
    "    if (plot == 'tracts'):\n",
    "        features = features.groupby(by = 'PU_FIPS').sum()[[column]]\n",
    "        fig = px.choropleth_mapbox(features, \n",
    "                           geojson=places1,\n",
    "                           featureidkey='properties.FIPS GEOID',\n",
    "                           locations=features.index.to_series(), \n",
    "                           color=column,\n",
    "                           color_continuous_scale=\"Viridis\",\n",
    "                           # range_color=(0,1_900_000),\n",
    "                           mapbox_style=\"carto-positron\",\n",
    "                           zoom=3, center = {\"lat\":36.746841 , \"lon\": -119.772591},\n",
    "                           opacity=0.4,\n",
    "                           #labels={'chem_type':'chemical type'}\n",
    "                          )\n",
    "   \n",
    "    elif (plot == 'TownshipRange'):\n",
    "        features = features.groupby(by = 'MTownshipRange').sum()[[column]]\n",
    "        fig = px.choropleth_mapbox(features, \n",
    "                           geojson=places2,\n",
    "                           featureidkey='properties.MTownshipRange',\n",
    "                           locations=features.index.to_series(), \n",
    "                           color=column,\n",
    "                           color_continuous_scale=\"Viridis\",\n",
    "                           #range_color=(0,2_000),\n",
    "                           mapbox_style=\"carto-positron\",\n",
    "                           zoom=3, center = {\"lat\":36.746841 , \"lon\": -119.772591},\n",
    "                           opacity=0.4,\n",
    "                           #labels={'chem_type':'chemical type'}\n",
    "                          )\n",
    "    else: return 'unable to plot'\n",
    "        \n",
    "    fig.update_layout(margin={\"r\":0,\"t\":0,\"l\":0,\"b\":0})\n",
    "        \n",
    "    return fig"
   ]
  },
  {
   "cell_type": "code",
   "execution_count": 16,
   "id": "570d2da3-e448-4eb9-8377-b4e09f47cdfd",
   "metadata": {
    "tags": []
   },
   "outputs": [],
   "source": [
    "figure = plotr2(features,column = 'POUNDS_PRODUCT_APPLIED',year = 2018 ,pesticide_type = '' ,county = ['FRESNO'], plot = 'tracts')"
   ]
  },
  {
   "cell_type": "code",
   "execution_count": 1,
   "id": "90b6e240-6432-4e78-93c7-97cd21211502",
   "metadata": {
    "tags": []
   },
   "outputs": [],
   "source": [
    "#figure"
   ]
  },
  {
   "cell_type": "code",
   "execution_count": 12,
   "id": "ae1b790e-8a35-41c5-a891-3c28e54479cf",
   "metadata": {},
   "outputs": [],
   "source": [
    "figure2 = plotr2(features,column = 'POUNDS_PRODUCT_APPLIED',year = 2018 ,pesticide_type = '' ,county = ['FRESNO'])"
   ]
  },
  {
   "cell_type": "code",
   "execution_count": 14,
   "id": "b2a706eb-4746-4531-a19e-e8c34874024b",
   "metadata": {
    "tags": []
   },
   "outputs": [],
   "source": [
    "#figure2"
   ]
  },
  {
   "cell_type": "code",
   "execution_count": null,
   "id": "d93f34df-d163-43de-af78-b63dc4c2a512",
   "metadata": {
    "tags": []
   },
   "outputs": [],
   "source": [
    "#set(features.TRACTCE).difference(set(placesF.tract))"
   ]
  },
  {
   "cell_type": "code",
   "execution_count": 14,
   "id": "5126f4e2-2f2c-47ad-a056-391d0d688ba2",
   "metadata": {
    "tags": []
   },
   "outputs": [
    {
     "data": {
      "text/plain": [
       "95"
      ]
     },
     "execution_count": 14,
     "metadata": {},
     "output_type": "execute_result"
    }
   ],
   "source": [
    "#len(features.loc[features['COUNTY_NAME'] == 'FRESNO'].OBJECTID.unique())"
   ]
  }
 ],
 "metadata": {
  "kernelspec": {
   "display_name": "Python 3 (ipykernel)",
   "language": "python",
   "name": "python3"
  },
  "language_info": {
   "codemirror_mode": {
    "name": "ipython",
    "version": 3
   },
   "file_extension": ".py",
   "mimetype": "text/x-python",
   "name": "python",
   "nbconvert_exporter": "python",
   "pygments_lexer": "ipython3",
   "version": "3.9.7"
  }
 },
 "nbformat": 4,
 "nbformat_minor": 5
}
