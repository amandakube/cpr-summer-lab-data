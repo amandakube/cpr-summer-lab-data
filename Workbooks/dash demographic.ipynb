{
 "cells": [
  {
   "cell_type": "code",
   "execution_count": null,
   "id": "13cd0254-cf7f-4dd9-9113-2cc9414f2395",
   "metadata": {
    "tags": []
   },
   "outputs": [],
   "source": [
    "#loading libraries\n",
    "import os\n",
    "import numpy as np\n",
    "import pandas as pd\n",
    "import geopandas as gpd\n",
    "import json\n",
    "import matplotlib.pyplot as plt\n",
    "import fiona\n",
    "import pyproj\n",
    "import contextily\n",
    "import plotly.express as px\n",
    "import dash_mantine_components as dmc\n",
    "\n",
    "\n",
    "pd.set_option('display.max_columns', None)\n",
    "pd.set_option('display.max_rows', 10)\n",
    "path = os.getcwd()"
   ]
  },
  {
   "cell_type": "markdown",
   "id": "a83640c7-c44f-4594-b4c3-80393439342d",
   "metadata": {},
   "source": [
    "### Loading demographic merge from drive"
   ]
  },
  {
   "cell_type": "code",
   "execution_count": 2,
   "id": "c503c5d8",
   "metadata": {
    "tags": []
   },
   "outputs": [],
   "source": [
    "# Steps to upload Geojson google drive file:\n",
    "# Share -> \"Copy Link\"\n",
    "# Download\n",
    "# Right click download anyway -> Inspect\n",
    "# Copy the link within Form-ID within <doctype>\n",
    "\n",
    "demographic = gpd.read_file('https://drive.google.com/u/0/uc?id=1bMnHgBkO2oXWKzGieNZDlAj0lLEil9ae&export=download&confirm=t&uuid=7d19032f-02e8-43a0-953b-1abfabfeb088&at=ALt4Tm0IkQtPWwgV-fCImYX1LZVC:1689710380703')"
   ]
  },
  {
   "cell_type": "markdown",
   "id": "1a821717-ae00-4292-8bcc-8b66ebac14a9",
   "metadata": {},
   "source": [
    "**Code for the autoplot function**"
   ]
  },
  {
   "cell_type": "code",
   "execution_count": 6,
   "id": "3bb64171-1fdb-4f2a-896f-5feb0ce3d99e",
   "metadata": {
    "tags": []
   },
   "outputs": [],
   "source": [
    "def demographic_plot(frame, column, counties = ['Monterey','Los Angeles','Kern','Fresno','Mendocino'], geometry_level = 'county'): \n",
    "    if (geometry_level in list(frame.geometry_type.unique())):\n",
    "            frame = frame.loc[frame['geometry_type'] == geometry_level]\n",
    "    else: return 'invalid geometry level'\n",
    "    \n",
    "    if (counties != []):\n",
    "        frame = frame.loc[frame['county_name'].isin(counties)]\n",
    "        \n",
    "    if column in list(frame.columns.values):\n",
    "        #frame = frame[[column,'geometry']]\n",
    "        \n",
    "        frame.reset_index(inplace = True)\n",
    "        frame.set_index('index',inplace = True)\n",
    "        \n",
    "        fig = px.choropleth_mapbox(frame,\n",
    "                                   geojson=frame.geometry,\n",
    "                                   locations=frame.index,\n",
    "                                   color = column,\n",
    "                                   mapbox_style=\"carto-positron\",\n",
    "                                   center = {\"lat\":37.1661,\"lon\":-119.4494},\n",
    "                                   zoom=5,\n",
    "                                   color_continuous_scale=\"Viridis\"\n",
    "                                   )\n",
    "        \n",
    "        fig.update_geos(fitbounds=\"locations\", visible=False)\n",
    "        \n",
    "        return fig, frame\n",
    "    else: \n",
    "        return \"invalid column name\""
   ]
  },
  {
   "cell_type": "markdown",
   "id": "f9163069-93ba-4a3d-84b3-ec5e42be8034",
   "metadata": {
    "tags": []
   },
   "source": [
    "**Experimental Code**"
   ]
  },
  {
   "cell_type": "code",
   "execution_count": 8,
   "id": "388fdd01",
   "metadata": {},
   "outputs": [],
   "source": [
    "# making a dictionay for pesticide names\n",
    "di2 = dict(zip(['','carcinogens','endo_disrupt','ch_I','fumigants','neonicotinoids','repro_dev'],['','carcinogens','endo_disrupt','ch_I','fumigants','neonicotinoids','repro_dev']))"
   ]
  },
  {
   "cell_type": "code",
   "execution_count": 6,
   "id": "9d187d71",
   "metadata": {},
   "outputs": [],
   "source": [
    "# making a dictionay for counties names\n",
    "di = dict(zip(list(demographic.county_name.unique()), list(demographic.county_name.unique())))"
   ]
  },
  {
   "cell_type": "code",
   "execution_count": 21,
   "id": "77e9a2cf-eed3-457b-833d-cacf69027bfc",
   "metadata": {
    "tags": []
   },
   "outputs": [
    {
     "data": {
      "text/html": [
       "\n",
       "        <iframe\n",
       "            width=\"100%\"\n",
       "            height=\"650\"\n",
       "            src=\"http://127.0.0.1:8050/\"\n",
       "            frameborder=\"0\"\n",
       "            allowfullscreen\n",
       "            \n",
       "        ></iframe>\n",
       "        "
      ],
      "text/plain": [
       "<IPython.lib.display.IFrame at 0x24e21c03940>"
      ]
     },
     "metadata": {},
     "output_type": "display_data"
    }
   ],
   "source": [
    "# Running dash app...\n",
    "from dash import Dash, dcc, html, Input, Output\n",
    "import plotly.express as px\n",
    "\n",
    "app = Dash(__name__)\n",
    "\n",
    "app.layout = html.Div(\n",
    "    [\n",
    "        html.Div(\n",
    "            [\n",
    "                html.P(\"Select plotting unit:\"),\n",
    "                dcc.RadioItems(\n",
    "                    id='geometry_select', \n",
    "                    options=[{'label':'Tract','value':'tract'},{'label':'County','value':'county'}],\n",
    "                    value=\"tract\",\n",
    "                    inline=True\n",
    "                ),         \n",
    "            ],\n",
    "            style=dict(width='15%')\n",
    "        ),\n",
    "        html.Div(\n",
    "            [\n",
    "                html.H4('Pesticide Use Plotter'),\n",
    "                html.P(\"Select statistic:\"),\n",
    "                dcc.RadioItems(\n",
    "                    id='column', \n",
    "                    options=[{\"label\": \"Percent white alone\", \"value\": \"pct_nh_white_alone\"},\n",
    "                            {\"label\": \"Percent black or african american alone\", \"value\": \"pct_nh_black_or_african_american_alone\"},\n",
    "                            {\"label\":\"Percent Amercan Indian and Alaske Native\", \"value\": \"pct_nh_american_indian_and_alaska_native_alone\"},\n",
    "                            {\"label\": \"Percent Asian alone\", \"value\": \"pct_nh_asian_alone\"},\n",
    "                            {\"label\": \"Percent Hispanic or Latino alone\", \"value\": \"pct_hispanic_or_latino\"}\n",
    "                    ],\n",
    "                    value=\"pct_nh_white_alone\"\n",
    "                ),\n",
    "                dcc.Graph(id=\"graph\"),\n",
    "                dcc.Dropdown(options = [{'label': v, 'value': k} for k, v in {'Santa Clara': 'Santa Clara', 'Orange': 'Orange', 'Alameda': 'Alameda',\n",
    "                                                                              'Kern': 'Kern', 'San Bernardino': 'San Bernardino', 'Napa': 'Napa',\n",
    "                                                                              'El Dorado': 'El Dorado', 'San Francisco': 'San Francisco', 'Monterey': 'Monterey',\n",
    "                                                                              'Contra Costa': 'Contra Costa', 'Los Angeles': 'Los Angeles', 'San Joaquin': 'San Joaquin',\n",
    "                                                                              'Sacramento': 'Sacramento', 'Placer': 'Placer', 'Sonoma': 'Sonoma',\n",
    "                                                                              'Riverside': 'Riverside', 'Sutter': 'Sutter', 'Del Norte': 'Del Norte',\n",
    "                                                                              'Ventura': 'Ventura', 'Tulare': 'Tulare', 'Santa Barbara': 'Santa Barbara',\n",
    "                                                                              'Yolo': 'Yolo', 'Alpine': 'Alpine', 'Stanislaus': 'Stanislaus',\n",
    "                                                                              'Trinity': 'Trinity', 'San Mateo': 'San Mateo', 'Solano': 'Solano',\n",
    "                                                                              'Amador': 'Amador', 'Fresno': 'Fresno', 'Tehama': 'Tehama',\n",
    "                                                                              'San Luis Obispo': 'San Luis Obispo', 'Merced': 'Merced', 'Butte': 'Butte',\n",
    "                                                                              'Lake': 'Lake', 'San Diego': 'San Diego', 'Madera': 'Madera',\n",
    "                                                                              'Lassen': 'Lassen', 'Imperial': 'Imperial', 'Mariposa': 'Mariposa',\n",
    "                                                                              'Nevada': 'Nevada', 'Yuba': 'Yuba', 'Tuolumne': 'Tuolumne',\n",
    "                                                                              'Marin': 'Marin', 'Calaveras': 'Calaveras', 'Santa Cruz': 'Santa Cruz',\n",
    "                                                                              'Shasta': 'Shasta', 'Humboldt': 'Humboldt', 'Siskiyou': 'Siskiyou',\n",
    "                                                                              'Mendocino': 'Mendocino', 'San Benito': 'San Benito', 'Plumas': 'Plumas',\n",
    "                                                                              'Sierra': 'Sierra', 'Kings': 'Kings', 'Colusa': 'Colusa',\n",
    "                                                                              'Modoc': 'Modoc', 'Inyo': 'Inyo','Glenn': 'Glenn', 'Mono': 'Mono'}.items()],\n",
    "                    id = 'county_multi_select',\n",
    "                    value =  ['Monterey','Los Angeles','Kern','Fresno','Mendocino'],\n",
    "                    multi=True\n",
    "                )\n",
    "            ],\n",
    "            style=dict(width='85%'))\n",
    "    ],\n",
    "    style=dict(display='flex')\n",
    ")\n",
    "@app.callback(\n",
    "    Output(\"graph\", \"figure\"),\n",
    "    Input(\"column\", \"value\"),\n",
    "    Input('county_multi_select', 'value'),\n",
    "    Input(\"geometry_select\", \"value\")\n",
    "    )#,\n",
    "\n",
    "def update_graph(column, county_multi_select, geometry_select):#County, yearslider):\n",
    "    return demographic_plot(demographic, column, counties = county_multi_select,geometry_level = geometry_select)#,county = [County], year = yearslider)\n",
    "\n",
    "def demographic_plot(frame, column, counties = ['Monterey','Los Angeles','Kern','Fresno','Mendocino'], geometry_level = 'county'): \n",
    "    if (geometry_level in list(frame.geometry_type.unique())):\n",
    "            frame2 = frame.loc[frame['geometry_type'] == geometry_level]\n",
    "    else: return 'invalid geometry level'\n",
    "    \n",
    "    if (counties != []):\n",
    "        frame2 = frame.loc[frame['county_name'].isin(counties)]\n",
    "        \n",
    "    if column in list(frame2.columns.values):\n",
    "        #frame = frame[[column,'geometry']]\n",
    "        \n",
    "        frame2.reset_index(inplace = True)\n",
    "        frame2.set_index('index',inplace = True)\n",
    "        \n",
    "        fig = px.choropleth_mapbox(frame2,\n",
    "                                   geojson=frame2.geometry,\n",
    "                                   locations=frame2.index,\n",
    "                                   color = column,\n",
    "                                   mapbox_style=\"carto-positron\",\n",
    "                                   center = {\"lat\":37.1661,\"lon\":-119.4494},\n",
    "                                   zoom=5,\n",
    "                                   color_continuous_scale=\"Viridis\"\n",
    "                                   )\n",
    "        \n",
    "        fig.update_geos(fitbounds=\"locations\", visible=False)\n",
    "        \n",
    "        return fig\n",
    "    \n",
    "    else: \n",
    "        return \"invalid column name\"\n",
    "\n",
    "\n",
    "if __name__ == \"__main__\":\n",
    "    app.run_server(debug=True)"
   ]
  }
 ],
 "metadata": {
  "kernelspec": {
   "display_name": "Python 3 (ipykernel)",
   "language": "python",
   "name": "python3"
  },
  "language_info": {
   "codemirror_mode": {
    "name": "ipython",
    "version": 3
   },
   "file_extension": ".py",
   "mimetype": "text/x-python",
   "name": "python",
   "nbconvert_exporter": "python",
   "pygments_lexer": "ipython3",
   "version": "3.9.7"
  }
 },
 "nbformat": 4,
 "nbformat_minor": 5
}
